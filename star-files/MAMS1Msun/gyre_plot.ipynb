{
 "cells": [
  {
   "cell_type": "code",
   "execution_count": 1,
   "id": "93462dbf-d75d-494d-b830-4b370116f3be",
   "metadata": {},
   "outputs": [],
   "source": [
    "import pygyre as pg\n",
    "import matplotlib.pyplot as plt\n",
    "import numpy as np"
   ]
  },
  {
   "cell_type": "code",
   "execution_count": 2,
   "id": "24597852-ca69-49be-84be-27fb12851bb5",
   "metadata": {},
   "outputs": [],
   "source": [
    "s = pg.read_output('summary.h5')"
   ]
  },
  {
   "cell_type": "code",
   "execution_count": 3,
   "id": "d3bb9468-fda2-40a3-b455-77a426e27c83",
   "metadata": {},
   "outputs": [
    {
     "data": {
      "text/html": [
       "<div><i>Table length=26</i>\n",
       "<table id=\"table5005503504\" class=\"table-striped table-bordered table-condensed\">\n",
       "<thead><tr><th>E_norm</th><th>M_star</th><th>R_star</th><th>freq</th><th>l</th><th>n_pg</th><th>omega</th></tr></thead>\n",
       "<thead><tr><th>float64</th><th>float64</th><th>float64</th><th>complex128</th><th>int32</th><th>int32</th><th>complex128</th></tr></thead>\n",
       "<tr><td>0.9534678781441062</td><td>1.9884098706980504e+33</td><td>72059797095.86208</td><td>(4.922353785347793+0j)</td><td>2</td><td>-20</td><td>(0.6010667246322218+0j)</td></tr>\n",
       "<tr><td>0.8878468667978847</td><td>1.9884098706980504e+33</td><td>72059797095.86208</td><td>(5.161486793246025+0j)</td><td>2</td><td>-19</td><td>(0.6302671641123527+0j)</td></tr>\n",
       "<tr><td>0.8455545196463746</td><td>1.9884098706980504e+33</td><td>72059797095.86208</td><td>(5.424139074133421+0j)</td><td>2</td><td>-18</td><td>(0.6623395329575381+0j)</td></tr>\n",
       "<tr><td>0.7911558386982104</td><td>1.9884098706980504e+33</td><td>72059797095.86208</td><td>(5.714724461655157+0j)</td><td>2</td><td>-17</td><td>(0.6978228026939767+0j)</td></tr>\n",
       "<tr><td>0.7362531087690062</td><td>1.9884098706980504e+33</td><td>72059797095.86208</td><td>(6.036261703836192+0j)</td><td>2</td><td>-16</td><td>(0.7370855914801705+0j)</td></tr>\n",
       "<tr><td>0.6878449628689471</td><td>1.9884098706980504e+33</td><td>72059797095.86208</td><td>(6.396457372034251+0j)</td><td>2</td><td>-15</td><td>(0.781068945776031+0j)</td></tr>\n",
       "<tr><td>0.6472906942939484</td><td>1.9884098706980504e+33</td><td>72059797095.86208</td><td>(6.79704559554982+0j)</td><td>2</td><td>-14</td><td>(0.8299846194424517+0j)</td></tr>\n",
       "<tr><td>0.5967000462386621</td><td>1.9884098706980504e+33</td><td>72059797095.86208</td><td>(7.253814076363403+0j)</td><td>2</td><td>-13</td><td>(0.8857604426868302+0j)</td></tr>\n",
       "<tr><td>0.5571395336453346</td><td>1.9884098706980504e+33</td><td>72059797095.86208</td><td>(7.770618919461172+0j)</td><td>2</td><td>-12</td><td>(0.9488672830036518+0j)</td></tr>\n",
       "<tr><td>0.4994975765944177</td><td>1.9884098706980504e+33</td><td>72059797095.86208</td><td>(8.360246344769102+0j)</td><td>2</td><td>-11</td><td>(1.02086646078281+0j)</td></tr>\n",
       "<tr><td>...</td><td>...</td><td>...</td><td>...</td><td>...</td><td>...</td><td>...</td></tr>\n",
       "<tr><td>0.059569851361749575</td><td>1.9884098706980504e+33</td><td>72059797095.86208</td><td>(17.093896144767566+0j)</td><td>2</td><td>-4</td><td>(2.0873290736482173+0j)</td></tr>\n",
       "<tr><td>0.023549259134863738</td><td>1.9884098706980504e+33</td><td>72059797095.86208</td><td>(19.554691283295405+0j)</td><td>2</td><td>-3</td><td>(2.387815820112605+0j)</td></tr>\n",
       "<tr><td>0.010526552127682666</td><td>1.9884098706980504e+33</td><td>72059797095.86208</td><td>(22.4622637888546+0j)</td><td>2</td><td>-2</td><td>(2.742858378766013+0j)</td></tr>\n",
       "<tr><td>0.006015965846352015</td><td>1.9884098706980504e+33</td><td>72059797095.86208</td><td>(25.63778315655636+0j)</td><td>2</td><td>-1</td><td>(3.1306198255421958+0j)</td></tr>\n",
       "<tr><td>0.0022744126598925247</td><td>1.9884098706980504e+33</td><td>72059797095.86208</td><td>(30.553634963278036+0j)</td><td>2</td><td>0</td><td>(3.7308925960689523+0j)</td></tr>\n",
       "<tr><td>0.0026914671186162873</td><td>1.9884098706980504e+33</td><td>72059797095.86208</td><td>(33.032316461404825+0j)</td><td>2</td><td>1</td><td>(4.033563439014121+0j)</td></tr>\n",
       "<tr><td>0.00023434588549988246</td><td>1.9884098706980504e+33</td><td>72059797095.86208</td><td>(42.48270855922173+0j)</td><td>2</td><td>2</td><td>(5.187547177776143+0j)</td></tr>\n",
       "<tr><td>7.063187536587582e-05</td><td>1.9884098706980504e+33</td><td>72059797095.86208</td><td>(54.36083607612135+0j)</td><td>2</td><td>3</td><td>(6.637980753395753+0j)</td></tr>\n",
       "<tr><td>2.3649785858821956e-05</td><td>1.9884098706980504e+33</td><td>72059797095.86208</td><td>(66.42286864915673+0j)</td><td>2</td><td>4</td><td>(8.11087090457965+0j)</td></tr>\n",
       "<tr><td>9.41592790869732e-06</td><td>1.9884098706980504e+33</td><td>72059797095.86208</td><td>(78.31703952292882+0j)</td><td>2</td><td>5</td><td>(9.563263528327038+0j)</td></tr>\n",
       "</table></div>"
      ],
      "text/plain": [
       "<Table length=26>\n",
       "        E_norm                 M_star         ...  n_pg          omega         \n",
       "       float64                float64         ... int32        complex128      \n",
       "---------------------- ---------------------- ... ----- -----------------------\n",
       "    0.9534678781441062 1.9884098706980504e+33 ...   -20 (0.6010667246322218+0j)\n",
       "    0.8878468667978847 1.9884098706980504e+33 ...   -19 (0.6302671641123527+0j)\n",
       "    0.8455545196463746 1.9884098706980504e+33 ...   -18 (0.6623395329575381+0j)\n",
       "    0.7911558386982104 1.9884098706980504e+33 ...   -17 (0.6978228026939767+0j)\n",
       "    0.7362531087690062 1.9884098706980504e+33 ...   -16 (0.7370855914801705+0j)\n",
       "    0.6878449628689471 1.9884098706980504e+33 ...   -15  (0.781068945776031+0j)\n",
       "    0.6472906942939484 1.9884098706980504e+33 ...   -14 (0.8299846194424517+0j)\n",
       "    0.5967000462386621 1.9884098706980504e+33 ...   -13 (0.8857604426868302+0j)\n",
       "    0.5571395336453346 1.9884098706980504e+33 ...   -12 (0.9488672830036518+0j)\n",
       "    0.4994975765944177 1.9884098706980504e+33 ...   -11   (1.02086646078281+0j)\n",
       "                   ...                    ... ...   ...                     ...\n",
       "  0.059569851361749575 1.9884098706980504e+33 ...    -4 (2.0873290736482173+0j)\n",
       "  0.023549259134863738 1.9884098706980504e+33 ...    -3  (2.387815820112605+0j)\n",
       "  0.010526552127682666 1.9884098706980504e+33 ...    -2  (2.742858378766013+0j)\n",
       "  0.006015965846352015 1.9884098706980504e+33 ...    -1 (3.1306198255421958+0j)\n",
       " 0.0022744126598925247 1.9884098706980504e+33 ...     0 (3.7308925960689523+0j)\n",
       " 0.0026914671186162873 1.9884098706980504e+33 ...     1  (4.033563439014121+0j)\n",
       "0.00023434588549988246 1.9884098706980504e+33 ...     2  (5.187547177776143+0j)\n",
       " 7.063187536587582e-05 1.9884098706980504e+33 ...     3  (6.637980753395753+0j)\n",
       "2.3649785858821956e-05 1.9884098706980504e+33 ...     4   (8.11087090457965+0j)\n",
       "  9.41592790869732e-06 1.9884098706980504e+33 ...     5  (9.563263528327038+0j)"
      ]
     },
     "execution_count": 3,
     "metadata": {},
     "output_type": "execute_result"
    }
   ],
   "source": [
    "s"
   ]
  },
  {
   "cell_type": "code",
   "execution_count": 6,
   "id": "f44cf901-268b-4b11-a180-f71b11865a8b",
   "metadata": {},
   "outputs": [
    {
     "data": {
      "text/html": [
       "<div><i>Table length=475</i>\n",
       "<table id=\"table5335082032\" class=\"table-striped table-bordered table-condensed\">\n",
       "<thead><tr><th>As</th><th>Gamma_1</th><th>M_r</th><th>V_2</th><th>c_1</th><th>rho</th><th>x</th><th>xi_h</th><th>xi_r</th></tr></thead>\n",
       "<thead><tr><th>float64</th><th>float64</th><th>float64</th><th>float64</th><th>float64</th><th>float64</th><th>float64</th><th>complex128</th><th>complex128</th></tr></thead>\n",
       "<tr><td>0.0</td><td>1.6652855411512768</td><td>0.0</td><td>149.8870384512944</td><td>0.007827406180246348</td><td>162.07660294133072</td><td>0.0</td><td>0j</td><td>0j</td></tr>\n",
       "<tr><td>9.590908831915168e-05</td><td>1.6652855997850253</td><td>3.107094008834461e+26</td><td>149.87605143118947</td><td>0.00782788655469073</td><td>162.06128653461994</td><td>0.0010694594821400272</td><td>(0.04174092132341449+0j)</td><td>(0.08350156389032223+0j)</td></tr>\n",
       "<tr><td>0.00015222818522456436</td><td>1.6652856380475363</td><td>6.214188035536512e+26</td><td>149.86980983561955</td><td>0.007828145976465592</td><td>162.0512921220113</td><td>0.0013474493996669652</td><td>(0.052574143222926494+0j)</td><td>(0.10518749763517564+0j)</td></tr>\n",
       "<tr><td>0.000241607016231319</td><td>1.665285697612286</td><td>1.242837608673303e+27</td><td>149.8594299674627</td><td>0.00782858457965144</td><td>162.03573742239638</td><td>0.0016977115688641636</td><td>(0.06620717193737855+0j)</td><td>(0.1324925535273792+0j)</td></tr>\n",
       "<tr><td>0.00038342597878099577</td><td>1.6652857919832413</td><td>2.485675218912607e+27</td><td>149.84270682347042</td><td>0.007829294242578307</td><td>162.01110255261585</td><td>0.0021390471738387904</td><td>(0.08335167230399781+0j)</td><td>(0.16685959945290352+0j)</td></tr>\n",
       "<tr><td>0.0006083957248834433</td><td>1.665285941830003</td><td>4.971350439170456e+27</td><td>149.81604152008302</td><td>0.007830427536456372</td><td>161.97200867343616</td><td>0.0026951605906373457</td><td>(0.10488839707986794+0j)</td><td>(0.21008899773824957+0j)</td></tr>\n",
       "<tr><td>0.0009651257065970931</td><td>1.6652861800259138</td><td>9.942700879906916e+27</td><td>149.77366475426024</td><td>0.00783223007123149</td><td>161.9099214963081</td><td>0.003395950099472702</td><td>(0.13189529829304739+0j)</td><td>(0.2644140647834147+0j)</td></tr>\n",
       "<tr><td>0.0015306132093410153</td><td>1.6652865549028033</td><td>1.988540176115907e+28</td><td>149.70653901753258</td><td>0.007835093579965874</td><td>161.812354644994</td><td>0.004279150381808378</td><td>(0.1656671635807687+0j)</td><td>(0.3325787617751738+0j)</td></tr>\n",
       "<tr><td>0.0021957050108702045</td><td>1.6652869864482367</td><td>3.421967984271641e+28</td><td>149.6288613373826</td><td>0.007838417474433347</td><td>161.70028645074433</td><td>0.0051286076280710885</td><td>(0.19780699757905645+0j)</td><td>(0.3977500423966871+0j)</td></tr>\n",
       "<tr><td>0.002769145106087354</td><td>1.6652873621117568</td><td>4.855395792429444e+28</td><td>149.56242039055766</td><td>0.007841254556925087</td><td>161.60292328458422</td><td>0.005763700782876569</td><td>(0.22157901719823728+0j)</td><td>(0.4461811787457916+0j)</td></tr>\n",
       "<tr><td>...</td><td>...</td><td>...</td><td>...</td><td>...</td><td>...</td><td>...</td><td>...</td><td>...</td></tr>\n",
       "<tr><td>-1421.664608620387</td><td>1.5246437698650375</td><td>1.9884098705859538e+33</td><td>4009.3378745079544</td><td>0.9996006954022695</td><td>2.118678105425556e-07</td><td>0.9998668807286849</td><td>(1.4871589334760797+0j)</td><td>(20.645555910997285+0j)</td></tr>\n",
       "<tr><td>-1146.002171709934</td><td>1.5410826581952413</td><td>1.9884098705921675e+33</td><td>4078.038398799667</td><td>0.9996194820447724</td><td>2.101123489809514e-07</td><td>0.9998731445722284</td><td>(1.487301009015399+0j)</td><td>(20.645983985220624+0j)</td></tr>\n",
       "<tr><td>-662.5289944153411</td><td>1.5674458178914676</td><td>1.988409870604595e+33</td><td>4204.528649229905</td><td>0.9996575977161396</td><td>2.0552359343679275e-07</td><td>0.9998858528606449</td><td>(1.487573570534996+0j)</td><td>(20.646767756118987+0j)</td></tr>\n",
       "<tr><td>-253.67205169821116</td><td>1.5864042994198593</td><td>1.9884098706170228e+33</td><td>4315.5713734239525</td><td>0.9996967176715477</td><td>1.995522916349485e-07</td><td>0.9998988956551926</td><td>(1.4878369462175711+0j)</td><td>(20.647455883576356+0j)</td></tr>\n",
       "<tr><td>90.40733548795674</td><td>1.600632780867716</td><td>1.9884098706294504e+33</td><td>4417.09069208454</td><td>0.9997371380672728</td><td>1.9257902464879667e-07</td><td>0.99991237166576</td><td>(1.4880973165682188+0j)</td><td>(20.64804207094357+0j)</td></tr>\n",
       "<tr><td>645.3692935541293</td><td>1.6189532339551922</td><td>1.9884098706543054e+33</td><td>4590.402052976991</td><td>0.9998229788700659</td><td>1.758844958446843e-07</td><td>0.9999409894671821</td><td>(1.4886293399950983+0j)</td><td>(20.64884393268877+0j)</td></tr>\n",
       "<tr><td>978.8852218366793</td><td>1.6270714361527452</td><td>1.9884098706741895e+33</td><td>4699.205150670887</td><td>0.9998983872342938</td><td>1.6019349559501794e-07</td><td>0.999966127926794</td><td>(1.4890913385992064+0j)</td><td>(20.64900139132889+0j)</td></tr>\n",
       "<tr><td>1114.2813295366166</td><td>1.6300334798737524</td><td>1.9884098706841317e+33</td><td>4747.583426275847</td><td>0.9999390386493454</td><td>1.5181060077290283e-07</td><td>0.9999796791345139</td><td>(1.4893435731017768+0j)</td><td>(20.648849792263828+0j)</td></tr>\n",
       "<tr><td>1175.404271704776</td><td>1.631330217919027</td><td>1.9884098706891026e+33</td><td>4770.746844337023</td><td>0.9999602294113181</td><td>1.4751075927562712e-07</td><td>0.9999867429598578</td><td>(1.4894767017035884+0j)</td><td>(20.648699859109705+0j)</td></tr>\n",
       "<tr><td>1232.9484305946291</td><td>1.632498177064458</td><td>1.9884098706940737e+33</td><td>4792.8978924066705</td><td>0.9999820521615794</td><td>1.4313176399700617e-07</td><td>0.9999940173507345</td><td>(1.4896152609295763+0j)</td><td>(20.648492174481827+0j)</td></tr>\n",
       "</table></div>"
      ],
      "text/plain": [
       "<Table length=475>\n",
       "          As                Gamma_1       ...           xi_r          \n",
       "       float64              float64       ...        complex128       \n",
       "---------------------- ------------------ ... ------------------------\n",
       "                   0.0 1.6652855411512768 ...                       0j\n",
       " 9.590908831915168e-05 1.6652855997850253 ... (0.08350156389032223+0j)\n",
       "0.00015222818522456436 1.6652856380475363 ... (0.10518749763517564+0j)\n",
       "  0.000241607016231319  1.665285697612286 ...  (0.1324925535273792+0j)\n",
       "0.00038342597878099577 1.6652857919832413 ... (0.16685959945290352+0j)\n",
       " 0.0006083957248834433  1.665285941830003 ... (0.21008899773824957+0j)\n",
       " 0.0009651257065970931 1.6652861800259138 ...  (0.2644140647834147+0j)\n",
       " 0.0015306132093410153 1.6652865549028033 ...  (0.3325787617751738+0j)\n",
       " 0.0021957050108702045 1.6652869864482367 ...  (0.3977500423966871+0j)\n",
       "  0.002769145106087354 1.6652873621117568 ...  (0.4461811787457916+0j)\n",
       "                   ...                ... ...                      ...\n",
       "    -1421.664608620387 1.5246437698650375 ...  (20.645555910997285+0j)\n",
       "    -1146.002171709934 1.5410826581952413 ...  (20.645983985220624+0j)\n",
       "    -662.5289944153411 1.5674458178914676 ...  (20.646767756118987+0j)\n",
       "   -253.67205169821116 1.5864042994198593 ...  (20.647455883576356+0j)\n",
       "     90.40733548795674  1.600632780867716 ...   (20.64804207094357+0j)\n",
       "     645.3692935541293 1.6189532339551922 ...   (20.64884393268877+0j)\n",
       "     978.8852218366793 1.6270714361527452 ...   (20.64900139132889+0j)\n",
       "    1114.2813295366166 1.6300334798737524 ...  (20.648849792263828+0j)\n",
       "     1175.404271704776  1.631330217919027 ...  (20.648699859109705+0j)\n",
       "    1232.9484305946291  1.632498177064458 ...  (20.648492174481827+0j)"
      ]
     },
     "execution_count": 6,
     "metadata": {},
     "output_type": "execute_result"
    }
   ],
   "source": [
    "d = pg.read_output('detail.l2.n+0.h5')\n",
    "d"
   ]
  },
  {
   "cell_type": "code",
   "execution_count": 8,
   "id": "4a8a1f7b-2755-4664-8248-11bd8dc46b81",
   "metadata": {},
   "outputs": [],
   "source": [
    "c0 = 299792458\n",
    "GNewton = 6.67408*10**(-11)\n",
    "Rstar=s['R_star'][1] / 100\n",
    "Mstar = s['M_star'][1] / 1000\n",
    "M_r = d['M_r'] / 1000\n",
    "\n",
    "rho_Dles = (d['rho'] * 10**3) * Rstar**2 * GNewton/ c0**2\n",
    "M_Dles = Mstar * GNewton/ c0**2 / Rstar\n",
    "Mr_Dles = M_r * GNewton/ c0**2 / Rstar"
   ]
  },
  {
   "cell_type": "code",
   "execution_count": 9,
   "id": "d0bb6a95-d070-439c-a84b-dd6deb1d7f2e",
   "metadata": {},
   "outputs": [
    {
     "data": {
      "text/plain": [
       "1.0357883728023871"
      ]
     },
     "execution_count": 9,
     "metadata": {},
     "output_type": "execute_result"
    }
   ],
   "source": [
    "Rstar / (6.957 * 10 ** 8)"
   ]
  },
  {
   "cell_type": "code",
   "execution_count": 10,
   "id": "ff16cfd1-8d34-42b0-a710-9dd1ca471a5f",
   "metadata": {},
   "outputs": [
    {
     "data": {
      "text/plain": [
       "1.7158874343228365"
      ]
     },
     "execution_count": 10,
     "metadata": {},
     "output_type": "execute_result"
    }
   ],
   "source": [
    "np.trapz(4.0*(np.pi)*(d['x'])*(rho_Dles)*Mr_Dles,d['x']) / (M_Dles**2)"
   ]
  },
  {
   "cell_type": "code",
   "execution_count": 11,
   "id": "44f427b6-1c50-4053-9a30-aa2885edf6de",
   "metadata": {},
   "outputs": [
    {
     "data": {
      "text/plain": [
       "0.3971024982253203"
      ]
     },
     "execution_count": 11,
     "metadata": {},
     "output_type": "execute_result"
    }
   ],
   "source": [
    "1/((rho_Dles[0]/(M_Dles/ (4/3 *np.pi)))**(1/3)*0.5)"
   ]
  },
  {
   "cell_type": "code",
   "execution_count": 12,
   "id": "3db97fa9-0c9c-43f4-b40f-7f1c4ce24a51",
   "metadata": {},
   "outputs": [
    {
     "data": {
      "text/plain": [
       "127.75624223049167"
      ]
     },
     "execution_count": 12,
     "metadata": {},
     "output_type": "execute_result"
    }
   ],
   "source": [
    "(rho_Dles[0]/(M_Dles/ (4/3 *np.pi)))"
   ]
  },
  {
   "cell_type": "code",
   "execution_count": 13,
   "id": "63e567de-6547-4d9c-bf8b-13c77c0613c6",
   "metadata": {},
   "outputs": [
    {
     "data": {
      "text/plain": [
       "<matplotlib.legend.Legend at 0x7f90ba53b5e0>"
      ]
     },
     "execution_count": 13,
     "metadata": {},
     "output_type": "execute_result"
    },
    {
     "data": {
      "image/png": "[encoded data removed]",
      "text/plain": [
       "<Figure size 432x288 with 1 Axes>"
      ]
     },
     "metadata": {
      "needs_background": "light"
     },
     "output_type": "display_data"
    }
   ],
   "source": [
    "\n",
    "plt.figure()\n",
    "\n",
    "plt.plot(d['x'], d['xi_r'].real, label='xi_r')\n",
    "plt.plot(d['x'], d['xi_h'].real, label='xi_h')\n",
    "\n",
    "plt.xlabel('x')\n",
    "\n",
    "plt.legend()"
   ]
  },
  {
   "cell_type": "code",
   "execution_count": 91,
   "id": "a3e94d61-1134-4393-913f-4465b1b9cbd0",
   "metadata": {},
   "outputs": [
    {
     "name": "stderr",
     "output_type": "stream",
     "text": [
      "/tmp/ipykernel_3509675/2715802805.py:11: RuntimeWarning: divide by zero encountered in divide\n",
      "  d['Sl2'] = l*(l+1)*Gamma_1/(V*c_1)\n"
     ]
    },
    {
     "data": {
      "image/png": "[encoded data removed]",
      "text/plain": [
       "<Figure size 640x480 with 1 Axes>"
      ]
     },
     "metadata": {},
     "output_type": "display_data"
    }
   ],
   "source": [
    "l = d.meta['l']\n",
    "omega = d.meta['omega']\n",
    "\n",
    "x = d['x']\n",
    "V = d['V_2']*d['x']**2\n",
    "As = d['As']\n",
    "c_1 = d['c_1']\n",
    "Gamma_1 = d['Gamma_1']\n",
    "\n",
    "d['N2'] = d['As']/d['c_1']\n",
    "d['Sl2'] = l*(l+1)*Gamma_1/(V*c_1)\n",
    "\n",
    "# Plot the propagation diagram\n",
    "\n",
    "plt.figure()\n",
    "\n",
    "plt.plot(d['x'], d['N2'], label='N^2')\n",
    "plt.plot(d['x'], d['Sl2'], label='S_l^2')\n",
    "\n",
    "plt.axhline(omega.real**2, dashes=(4,2))\n",
    "\n",
    "plt.xlabel('x')\n",
    "plt.ylabel('omega^2')\n",
    "\n",
    "plt.ylim(5e-2, 5e2)\n",
    "plt.yscale('log')"
   ]
  },
  {
   "cell_type": "code",
   "execution_count": 92,
   "id": "6b56be3e-6fed-459a-9837-2bdeacab574a",
   "metadata": {},
   "outputs": [],
   "source": [
    "D_overlap = np.trapz(rho_Dles *( d['x']**3 * d['xi_r'] + 3 * d['x']**2 * (d['x'] * d['xi_h'])),d['x']) / M_Dles"
   ]
  },
  {
   "cell_type": "code",
   "execution_count": 93,
   "id": "6b8df9d6-aa33-472a-894e-5c49c6e545a6",
   "metadata": {},
   "outputs": [],
   "source": [
    "N_overlap= np.trapz(rho_Dles *( d['x']**2 * d['xi_r']**2 + 6 * (d['x'] * d['xi_h'])**2 ),d['x']) / M_Dles"
   ]
  },
  {
   "cell_type": "code",
   "execution_count": 94,
   "id": "b281a786-7a0a-4b84-a9b5-79e58b6d9b4a",
   "metadata": {},
   "outputs": [
    {
     "data": {
      "text/plain": [
       "(0.00022988971503408548+0j)"
      ]
     },
     "execution_count": 94,
     "metadata": {},
     "output_type": "execute_result"
    }
   ],
   "source": [
    "D_overlap **2 / N_overlap"
   ]
  },
  {
   "cell_type": "code",
   "execution_count": null,
   "id": "dde5fa29-befa-4e08-b1c0-71197d77bab6",
   "metadata": {},
   "outputs": [],
   "source": []
  },
  {
   "cell_type": "code",
   "execution_count": null,
   "id": "2419041e-8e35-4c79-b39d-b28225a22bf1",
   "metadata": {},
   "outputs": [],
   "source": []
  },
  {
   "cell_type": "code",
   "execution_count": null,
   "id": "58c4cbee-ebe5-41b7-a51f-55b51569d5b2",
   "metadata": {},
   "outputs": [],
   "source": []
  }
 ],
 "metadata": {
  "kernelspec": {
   "display_name": "base",
   "language": "python",
   "name": "python3"
  },
  "language_info": {
   "codemirror_mode": {
    "name": "ipython",
    "version": 3
   },
   "file_extension": ".py",
   "mimetype": "text/x-python",
   "name": "python",
   "nbconvert_exporter": "python",
   "pygments_lexer": "ipython3",
   "version": "3.9.18"
  }
 },
 "nbformat": 4,
 "nbformat_minor": 5
}
